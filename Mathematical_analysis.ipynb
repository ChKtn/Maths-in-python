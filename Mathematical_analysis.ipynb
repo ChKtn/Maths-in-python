{
  "nbformat": 4,
  "nbformat_minor": 0,
  "metadata": {
    "colab": {
      "provenance": []
    },
    "kernelspec": {
      "name": "python3",
      "display_name": "Python 3"
    },
    "language_info": {
      "name": "python"
    }
  },
  "cells": [
    {
      "cell_type": "markdown",
      "source": [
        "# Complex numbers"
      ],
      "metadata": {
        "id": "h1DV010L6erA"
      }
    },
    {
      "cell_type": "markdown",
      "source": [
        "## Operations on complex numbers"
      ],
      "metadata": {
        "id": "tXllgWEo6-sE"
      }
    },
    {
      "cell_type": "markdown",
      "source": [
        "### Example 1"
      ],
      "metadata": {
        "id": "cwcCCKJO7Ck1"
      }
    },
    {
      "cell_type": "markdown",
      "source": [
        "Пусть х = 1 + 3i, у = 2 — i, g = 1 — 2i, t = 10.\n",
        "\n",
        "Найти z = х * у, h = t/g, n = р^2 = р * р, С = z + h + n."
      ],
      "metadata": {
        "id": "wOxtGrYy7Ngv"
      }
    },
    {
      "cell_type": "code",
      "execution_count": 5,
      "metadata": {
        "id": "15PN6QZg6NvY",
        "colab": {
          "base_uri": "https://localhost:8080/"
        },
        "outputId": "4b93c893-1742-4927-c7f3-8b2a119bf7b1"
      },
      "outputs": [
        {
          "output_type": "stream",
          "name": "stdout",
          "text": [
            "z = (5+5j)\n"
          ]
        }
      ],
      "source": [
        "x = complex(1, 3)\n",
        "y = complex(2, -1)\n",
        "z = x * y\n",
        "print('z =', z)"
      ]
    },
    {
      "cell_type": "code",
      "source": [
        "g = complex(1, -2)\n",
        "t = complex(10, 0)\n",
        "h = t/g\n",
        "print('h =', h)"
      ],
      "metadata": {
        "colab": {
          "base_uri": "https://localhost:8080/"
        },
        "id": "t0iL95Hf7zJX",
        "outputId": "6b46be0b-ca17-48ee-d8b8-3cfe872656ea"
      },
      "execution_count": 6,
      "outputs": [
        {
          "output_type": "stream",
          "name": "stdout",
          "text": [
            "h = (2+4j)\n"
          ]
        }
      ]
    },
    {
      "cell_type": "code",
      "source": [
        "p = complex(-1, -1)\n",
        "n = p * p\n",
        "print('n =', n)"
      ],
      "metadata": {
        "colab": {
          "base_uri": "https://localhost:8080/"
        },
        "id": "FKov1wvu8OGX",
        "outputId": "2612774e-f2b5-4d46-f2a2-de140012b222"
      },
      "execution_count": 7,
      "outputs": [
        {
          "output_type": "stream",
          "name": "stdout",
          "text": [
            "n = 2j\n"
          ]
        }
      ]
    },
    {
      "cell_type": "code",
      "source": [
        "C = z + h + n\n",
        "print('C =', C)"
      ],
      "metadata": {
        "colab": {
          "base_uri": "https://localhost:8080/"
        },
        "id": "6zE7Tmjg8Wld",
        "outputId": "86efd774-b9aa-45b1-8471-22aec44ba93a"
      },
      "execution_count": 8,
      "outputs": [
        {
          "output_type": "stream",
          "name": "stdout",
          "text": [
            "C = (7+11j)\n"
          ]
        }
      ]
    },
    {
      "cell_type": "markdown",
      "source": [
        "### Example 2"
      ],
      "metadata": {
        "id": "6CMi5lkC8fMU"
      }
    },
    {
      "cell_type": "markdown",
      "source": [
        "Degree i^2\n",
        "\n",
        "x = i, y = x^2, y = -1 "
      ],
      "metadata": {
        "id": "XkBD4XhO8wIU"
      }
    },
    {
      "cell_type": "code",
      "source": [
        "x = complex(0, 1)\n",
        "y = pow(x, 2)\n",
        "print('i^2 =', y)"
      ],
      "metadata": {
        "colab": {
          "base_uri": "https://localhost:8080/"
        },
        "id": "IZeqlqYo8iaI",
        "outputId": "fbe6f04f-29fb-44e0-fdc3-046730ec0068"
      },
      "execution_count": 9,
      "outputs": [
        {
          "output_type": "stream",
          "name": "stdout",
          "text": [
            "i^2 = (-1+0j)\n"
          ]
        }
      ]
    },
    {
      "cell_type": "markdown",
      "source": [
        "### Example 3"
      ],
      "metadata": {
        "id": "N93urWfR9PcI"
      }
    },
    {
      "cell_type": "markdown",
      "source": [
        "Calculate\n",
        "\n",
        "(1 + 3i) * (2 - i) + 10/(1 + 2*i) + (-1 - i)^2"
      ],
      "metadata": {
        "id": "Qd7qK1FQ9PcJ"
      }
    },
    {
      "cell_type": "code",
      "source": [
        "x = complex(1, 3)\n",
        "y = complex(2, -1)\n",
        "z = x * y\n",
        "print(f'{x} * {y} =', z)"
      ],
      "metadata": {
        "colab": {
          "base_uri": "https://localhost:8080/"
        },
        "outputId": "a55a3675-e217-4b81-c178-09de954b8d25",
        "id": "iu45Wjm99PcK"
      },
      "execution_count": 10,
      "outputs": [
        {
          "output_type": "stream",
          "name": "stdout",
          "text": [
            "(1+3j) * (2-1j) = (5+5j)\n"
          ]
        }
      ]
    },
    {
      "cell_type": "code",
      "source": [
        "g = complex(1, 2)\n",
        "t = complex(10, 0)\n",
        "h = t/g\n",
        "print(f'{t}/{g} =', h)"
      ],
      "metadata": {
        "colab": {
          "base_uri": "https://localhost:8080/"
        },
        "id": "-Z8Y3KkY-jUr",
        "outputId": "31743072-3a62-4b27-da9c-9d97269190be"
      },
      "execution_count": 11,
      "outputs": [
        {
          "output_type": "stream",
          "name": "stdout",
          "text": [
            "(10+0j)/(1+2j) = (2-4j)\n"
          ]
        }
      ]
    },
    {
      "cell_type": "code",
      "source": [
        "p = complex(-1, -1)\n",
        "n = p * p\n",
        "print(f'{p}^2 =', n)"
      ],
      "metadata": {
        "colab": {
          "base_uri": "https://localhost:8080/"
        },
        "id": "MhPNvu0I-ztI",
        "outputId": "7f296f9a-6332-4c29-a014-b90f6afde81a"
      },
      "execution_count": 12,
      "outputs": [
        {
          "output_type": "stream",
          "name": "stdout",
          "text": [
            "(-1-1j)^2 = 2j\n"
          ]
        }
      ]
    },
    {
      "cell_type": "code",
      "source": [
        "C = z + h + n\n",
        "print(f'{x} * {y} + {t}/{g} + {p}^2 =', C)"
      ],
      "metadata": {
        "colab": {
          "base_uri": "https://localhost:8080/"
        },
        "id": "hl0SL10q--Gi",
        "outputId": "7ee1bd19-aad6-4041-9e10-d04f3abc61bb"
      },
      "execution_count": 14,
      "outputs": [
        {
          "output_type": "stream",
          "name": "stdout",
          "text": [
            "(1+3j) * (2-1j) + (10+0j)/(1+2j) + (-1-1j)^2 = (7+3j)\n"
          ]
        }
      ]
    },
    {
      "cell_type": "markdown",
      "source": [
        "### Example 4"
      ],
      "metadata": {
        "id": "vIZmL9qa_yq7"
      }
    },
    {
      "cell_type": "markdown",
      "source": [
        "Solve the equation х^2 — 2х + 5 = 0"
      ],
      "metadata": {
        "id": "BdvhK-QZ_yq8"
      }
    },
    {
      "cell_type": "code",
      "source": [
        "import math\n",
        "from sympy import *\n",
        "x = Symbol('x')\n",
        "print(solve(x**2 - 2*x +5))"
      ],
      "metadata": {
        "colab": {
          "base_uri": "https://localhost:8080/"
        },
        "outputId": "eadb0116-6f29-4ace-b63d-fef0ab7e7975",
        "id": "GXp-t8y3_yq9"
      },
      "execution_count": 15,
      "outputs": [
        {
          "output_type": "stream",
          "name": "stdout",
          "text": [
            "[1 - 2*I, 1 + 2*I]\n"
          ]
        }
      ]
    },
    {
      "cell_type": "markdown",
      "source": [
        "### Example 5"
      ],
      "metadata": {
        "id": "QcQ3iG3qAySr"
      }
    },
    {
      "cell_type": "markdown",
      "source": [
        "Find the value of the function f(х) = х^4 + (2 + i)/x - (-3 + 2i) at x = 1 - 2i"
      ],
      "metadata": {
        "id": "k7p8y0kqAySs"
      }
    },
    {
      "cell_type": "code",
      "source": [
        "x = complex(1, -2)\n",
        "i = complex(0, 1)\n",
        "f = x**4 + (2+i)/x - (-3 + 2*i)\n",
        "print('f(x) =', f)"
      ],
      "metadata": {
        "colab": {
          "base_uri": "https://localhost:8080/"
        },
        "outputId": "acc4e62d-5b34-4fe3-dc83-206d3eca2fcf",
        "id": "7ZwsYTdyAySt"
      },
      "execution_count": 17,
      "outputs": [
        {
          "output_type": "stream",
          "name": "stdout",
          "text": [
            "f(x) = (-4+23j)\n"
          ]
        }
      ]
    },
    {
      "cell_type": "markdown",
      "source": [
        "### Example 6"
      ],
      "metadata": {
        "id": "5R8eGWxUBuph"
      }
    },
    {
      "cell_type": "markdown",
      "source": [
        "Perform actions (1+i)^8/(1-i)^6"
      ],
      "metadata": {
        "id": "PFdYXZigBup6"
      }
    },
    {
      "cell_type": "code",
      "source": [
        "i = complex(0, 1)\n",
        "print((1+i)**8/(1+i)**6)"
      ],
      "metadata": {
        "colab": {
          "base_uri": "https://localhost:8080/"
        },
        "outputId": "5b112cc6-b3aa-4ffe-ee78-ec4fe437451a",
        "id": "YEKFObYQBup7"
      },
      "execution_count": 18,
      "outputs": [
        {
          "output_type": "stream",
          "name": "stdout",
          "text": [
            "(-0+2j)\n"
          ]
        }
      ]
    },
    {
      "cell_type": "markdown",
      "source": [
        "### Example 7"
      ],
      "metadata": {
        "id": "lZF3nn5ZCjAl"
      }
    },
    {
      "cell_type": "markdown",
      "source": [
        "Solve the system of equations\n",
        "\n",
        "\n",
        "> (2 + i)*x + (2 - i)*y = 6\n",
        "\n",
        "> (3 + 2i)*x + (3 - 2i)*y = 8\n",
        "\n"
      ],
      "metadata": {
        "id": "aOtunH_2CjBA"
      }
    },
    {
      "cell_type": "code",
      "source": [
        "from sympy import Symbol, nsolve\n",
        "import sympy \n",
        "import mpmath\n",
        "mpmath.mp.dps = 3\n",
        "x = Symbol('x')\n",
        "y = Symbol('y')\n",
        "i = complex(0, 1)\n",
        "f1 = (2+i)*x+y*(2-i)-6\n",
        "f2 = (3+2*i)*x+(3-2*i)*y-8\n",
        "print(nsolve((f1, f2), (x, y), (-1, 1)))"
      ],
      "metadata": {
        "colab": {
          "base_uri": "https://localhost:8080/"
        },
        "outputId": "1e2dbd75-8a53-4463-ddc7-34c56ac0c00e",
        "id": "eNnxaTdvCjBB"
      },
      "execution_count": 19,
      "outputs": [
        {
          "output_type": "stream",
          "name": "stdout",
          "text": [
            "Matrix([[2.0 + 1.0*I], [2.0 - 1.0*I]])\n"
          ]
        }
      ]
    },
    {
      "cell_type": "markdown",
      "source": [
        "### Example 8"
      ],
      "metadata": {
        "id": "bXjEpXBey4Zj"
      }
    },
    {
      "cell_type": "markdown",
      "source": [
        "Calculate\n",
        "\n",
        "√(3-4i)\n",
        "\n"
      ],
      "metadata": {
        "id": "m4FQ6_Q0y4Zk"
      }
    },
    {
      "cell_type": "code",
      "source": [
        "i = complex(0, 1)\n",
        "print((3+4*i)**(1/2))"
      ],
      "metadata": {
        "colab": {
          "base_uri": "https://localhost:8080/"
        },
        "outputId": "e4562bb2-d51d-4d45-c270-fd645e407602",
        "id": "R9PlGCkCy4Zk"
      },
      "execution_count": 5,
      "outputs": [
        {
          "output_type": "stream",
          "name": "stdout",
          "text": [
            "(2+1j)\n"
          ]
        }
      ]
    },
    {
      "cell_type": "markdown",
      "source": [
        "### Example 9"
      ],
      "metadata": {
        "id": "jYKqvtp1z9Df"
      }
    },
    {
      "cell_type": "markdown",
      "source": [
        "Solve the equations\n",
        "\n",
        "(2+i)x^2 - (5 -i)x + (2 - 2i) = 0\n",
        "\n"
      ],
      "metadata": {
        "id": "Cuu7frBFz9D6"
      }
    },
    {
      "cell_type": "code",
      "source": [
        "from sympy import Symbol\n",
        "from sympy import *\n",
        "x = Symbol('x')\n",
        "i = complex(0, 1)\n",
        "print(solve((2+i)*x**2 - (5 - i)*x + (2 - 2*i)))"
      ],
      "metadata": {
        "colab": {
          "base_uri": "https://localhost:8080/"
        },
        "outputId": "91f51c2f-e46e-46ef-e94f-acd4b753bf4c",
        "id": "3UOLZLJwz9D7"
      },
      "execution_count": 9,
      "outputs": [
        {
          "output_type": "stream",
          "name": "stdout",
          "text": [
            "[0.8 - 0.4*I, 1.0 - 1.0*I]\n"
          ]
        }
      ]
    },
    {
      "cell_type": "markdown",
      "source": [
        "### Example 10"
      ],
      "metadata": {
        "id": "qgbW2iej1ViJ"
      }
    },
    {
      "cell_type": "markdown",
      "source": [
        "Calculate\n",
        "\n",
        "-25*(3i-9)/(2 + 8i) - (3 + 5i)^2\n",
        "\n"
      ],
      "metadata": {
        "id": "NSVQ5qUv1Vil"
      }
    },
    {
      "cell_type": "code",
      "source": [
        "i = complex(0, 1)\n",
        "print(-25*(3*i - 9)/(2 + 8*i) - (3 + 5*i)**2)"
      ],
      "metadata": {
        "colab": {
          "base_uri": "https://localhost:8080/"
        },
        "outputId": "cdb4a2ca-9cb1-4a2b-febd-29c0201019f8",
        "id": "33mAUCtR1Vim"
      },
      "execution_count": 13,
      "outputs": [
        {
          "output_type": "stream",
          "name": "stdout",
          "text": [
            "(13.794117647058822-58.67647058823529j)\n"
          ]
        }
      ]
    },
    {
      "cell_type": "markdown",
      "source": [
        "### Example 11"
      ],
      "metadata": {
        "id": "c3dKXksQ1WWX"
      }
    },
    {
      "cell_type": "markdown",
      "source": [
        "Calculate\n",
        "\n",
        "-(3 + 5i)^10 — 25*(3i - 9)/(2 + 8i)\n",
        "\n"
      ],
      "metadata": {
        "id": "N4fj-Bdy1WWZ"
      }
    },
    {
      "cell_type": "code",
      "source": [
        "i = complex(0, 1)\n",
        "print(-(3 + 5*i)**10-25*(3*i - 9)/(2 + 8*i))"
      ],
      "metadata": {
        "colab": {
          "base_uri": "https://localhost:8080/"
        },
        "outputId": "003df33f-1cb8-4ca4-a1be-bed834fc0715",
        "id": "9x7pOnXL1WWa"
      },
      "execution_count": 15,
      "outputs": [
        {
          "output_type": "stream",
          "name": "stdout",
          "text": [
            "(28984573.79411765+34989571.323529415j)\n"
          ]
        }
      ]
    },
    {
      "cell_type": "markdown",
      "source": [
        "### Example 12"
      ],
      "metadata": {
        "id": "vaCwNMv63Hc0"
      }
    },
    {
      "cell_type": "markdown",
      "source": [
        "Find the modulus and argumet (phase) of a complex number\n",
        "\n",
        "z = 2 + 2* \\sqrt 3 • i.\n",
        "\n",
        "\n"
      ],
      "metadata": {
        "id": "ThOucytS3HdI"
      }
    },
    {
      "cell_type": "code",
      "source": [
        "i = complex(0, 1)\n",
        "print(-(3 + 5*i)**10-25*(3*i - 9)/(2 + 8*i))"
      ],
      "metadata": {
        "colab": {
          "base_uri": "https://localhost:8080/"
        },
        "outputId": "003df33f-1cb8-4ca4-a1be-bed834fc0715",
        "id": "CnOb4twG3HdJ"
      },
      "execution_count": null,
      "outputs": [
        {
          "output_type": "stream",
          "name": "stdout",
          "text": [
            "(28984573.79411765+34989571.323529415j)\n"
          ]
        }
      ]
    },
    {
      "cell_type": "markdown",
      "source": [
        "### Example 13"
      ],
      "metadata": {
        "id": "JkfOr39ncs18"
      }
    },
    {
      "cell_type": "markdown",
      "source": [
        "Let z = —4 — 9i, h = 1 — 8i calculate\n",
        "(z - conj(h))(conj(z) + h)\n",
        "\n",
        "\n"
      ],
      "metadata": {
        "id": "U4nlHt3mcs19"
      }
    },
    {
      "cell_type": "code",
      "source": [
        "from sympy import *\n",
        "z = complex(-4, -9)\n",
        "h = complex(1, -8)\n",
        "print(complex(z - conjugate(h))/complex(conjugate(z) + h))"
      ],
      "metadata": {
        "colab": {
          "base_uri": "https://localhost:8080/"
        },
        "outputId": "53d60710-336d-493d-bba9-4076324c840f",
        "id": "M29gOOrJcs1-"
      },
      "execution_count": 3,
      "outputs": [
        {
          "output_type": "stream",
          "name": "stdout",
          "text": [
            "(-0.19999999999999982+5.6000000000000005j)\n"
          ]
        }
      ]
    }
  ]
}