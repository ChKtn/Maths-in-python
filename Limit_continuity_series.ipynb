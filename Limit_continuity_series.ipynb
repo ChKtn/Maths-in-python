{
  "nbformat": 4,
  "nbformat_minor": 0,
  "metadata": {
    "colab": {
      "provenance": []
    },
    "kernelspec": {
      "name": "python3",
      "display_name": "Python 3"
    },
    "language_info": {
      "name": "python"
    }
  },
  "cells": [
    {
      "cell_type": "markdown",
      "source": [
        "# Limit, continuity, series"
      ],
      "metadata": {
        "id": "9UKkmn_jscUO"
      }
    },
    {
      "cell_type": "markdown",
      "source": [
        "## Limit, continuity"
      ],
      "metadata": {
        "id": "87q15hnZspZg"
      }
    },
    {
      "cell_type": "markdown",
      "source": [
        "### Example 1\n"
      ],
      "metadata": {
        "id": "KEh49IsJs5YU"
      }
    },
    {
      "cell_type": "markdown",
      "source": [
        "Find lim(x->∞)((6x^2+3x)/3x^2)"
      ],
      "metadata": {
        "id": "o-tLjdn1s___"
      }
    },
    {
      "cell_type": "code",
      "execution_count": 2,
      "metadata": {
        "id": "15PN6QZg6NvY",
        "colab": {
          "base_uri": "https://localhost:8080/"
        },
        "outputId": "b23fab18-9832-400e-fc68-1333dadb21b7"
      },
      "outputs": [
        {
          "output_type": "stream",
          "name": "stdout",
          "text": [
            "2\n"
          ]
        }
      ],
      "source": [
        "from sympy import *\n",
        "x = Symbol('x')\n",
        "print(limit((6*x**2+3 *x)/(3 *x**2),x,oo))"
      ]
    },
    {
      "cell_type": "markdown",
      "source": [
        "### Example 2\n"
      ],
      "metadata": {
        "id": "PpZRx2WqxBVz"
      }
    },
    {
      "cell_type": "markdown",
      "source": [
        "Find lim(x->0)(sin(x)/x)"
      ],
      "metadata": {
        "id": "2HlkwmeaxBV1"
      }
    },
    {
      "cell_type": "code",
      "execution_count": 8,
      "metadata": {
        "colab": {
          "base_uri": "https://localhost:8080/"
        },
        "outputId": "0f2b4162-53d0-4e64-cbb2-a8b443070185",
        "id": "g1Ujrz3ixBV2"
      },
      "outputs": [
        {
          "output_type": "stream",
          "name": "stdout",
          "text": [
            "1\n"
          ]
        }
      ],
      "source": [
        "from sympy import *\n",
        "x = Symbol('x')\n",
        "print(limit((sin(x)/x)**x,x,0))"
      ]
    },
    {
      "cell_type": "markdown",
      "source": [
        "Find lim(x->∞)(1+1/x)^x"
      ],
      "metadata": {
        "id": "r6cj6z3Ty-Jk"
      }
    },
    {
      "cell_type": "code",
      "source": [
        "print(limit((1+1/x)**x,x,oo))"
      ],
      "metadata": {
        "colab": {
          "base_uri": "https://localhost:8080/"
        },
        "id": "0T19BOuwxrfp",
        "outputId": "04d14c8a-c892-4e7e-d5a7-a79da752319b"
      },
      "execution_count": 6,
      "outputs": [
        {
          "output_type": "stream",
          "name": "stdout",
          "text": [
            "E\n"
          ]
        }
      ]
    },
    {
      "cell_type": "code",
      "source": [
        "print(limit((1+x)**(1/x),x,0))"
      ],
      "metadata": {
        "colab": {
          "base_uri": "https://localhost:8080/"
        },
        "id": "AGGiik2lzQ3e",
        "outputId": "2e0e69ef-c068-4d17-b919-ae81e1767d09"
      },
      "execution_count": 7,
      "outputs": [
        {
          "output_type": "stream",
          "name": "stdout",
          "text": [
            "E\n"
          ]
        }
      ]
    },
    {
      "cell_type": "markdown",
      "source": [
        "## One-sided limits"
      ],
      "metadata": {
        "id": "xRmJuyEGzYXy"
      }
    },
    {
      "cell_type": "markdown",
      "source": [
        "### Example 3\n"
      ],
      "metadata": {
        "id": "KuI36QIzxBeC"
      }
    },
    {
      "cell_type": "markdown",
      "source": [
        "Find the rigth-hand and the left-hand limits of the function (2^x -1)/(x^2 - 3x) with x -> 3"
      ],
      "metadata": {
        "id": "rvJeOmnexBeD"
      }
    },
    {
      "cell_type": "code",
      "execution_count": 9,
      "metadata": {
        "colab": {
          "base_uri": "https://localhost:8080/"
        },
        "outputId": "c1df3a2a-225e-42e5-8663-4413acd8d2c6",
        "id": "IIQVLBPMxBeD"
      },
      "outputs": [
        {
          "output_type": "stream",
          "name": "stdout",
          "text": [
            "oo\n"
          ]
        }
      ],
      "source": [
        "from sympy import *\n",
        "x = Symbol('x')\n",
        "print(limit((2**x - 1)/(x**2 - 3*x),x,3,'+'))"
      ]
    },
    {
      "cell_type": "code",
      "source": [
        "print(limit((2**x - 1)/(x**2 - 3*x),x,3,'-'))"
      ],
      "metadata": {
        "colab": {
          "base_uri": "https://localhost:8080/"
        },
        "id": "hOeV1Cu90g8N",
        "outputId": "c3a195dd-eaa4-4659-e729-414b476fb58d"
      },
      "execution_count": 10,
      "outputs": [
        {
          "output_type": "stream",
          "name": "stdout",
          "text": [
            "-oo\n"
          ]
        }
      ]
    },
    {
      "cell_type": "markdown",
      "source": [
        "### Example 4\n"
      ],
      "metadata": {
        "id": "vcI2oaxqxBn5"
      }
    },
    {
      "cell_type": "markdown",
      "source": [
        "Find lim(x->∞)(5^х-5 * 7^х)/(4 * 5^х-3 * 7^х)"
      ],
      "metadata": {
        "id": "Ndy4u0TUxBn7"
      }
    },
    {
      "cell_type": "code",
      "execution_count": 12,
      "metadata": {
        "colab": {
          "base_uri": "https://localhost:8080/"
        },
        "outputId": "acc49a64-5581-4fd1-9fbf-054a8dc41b3c",
        "id": "D5TD2dM_xBn8"
      },
      "outputs": [
        {
          "output_type": "stream",
          "name": "stdout",
          "text": [
            "5/3\n"
          ]
        }
      ],
      "source": [
        "from sympy import *\n",
        "x = Symbol('x')\n",
        "print(limit((5**x-5*7**x)/(4*5**x-3*7**x),x,oo))"
      ]
    },
    {
      "cell_type": "markdown",
      "source": [
        "Find lim(x->-∞)(7 * 8^x+2 * 9^x)/(6 * 8^x-6 * 9^x)"
      ],
      "metadata": {
        "id": "7RwMGAHi2TQh"
      }
    },
    {
      "cell_type": "code",
      "source": [
        "print(limit((7*8**x+2*9**x)/(6*8**x-6*9**x),x,-oo))"
      ],
      "metadata": {
        "colab": {
          "base_uri": "https://localhost:8080/"
        },
        "id": "6eitFTwt2GIB",
        "outputId": "74a83c71-c5b4-4a73-843d-be69991d1687"
      },
      "execution_count": 14,
      "outputs": [
        {
          "output_type": "stream",
          "name": "stdout",
          "text": [
            "7/6\n"
          ]
        }
      ]
    },
    {
      "cell_type": "markdown",
      "source": [
        "Find lim(x->-∞)(√(x*(x + 3)) - √(x^2 + 9))"
      ],
      "metadata": {
        "id": "M9DYpNci3IXJ"
      }
    },
    {
      "cell_type": "code",
      "source": [
        "print(limit((sqrt(x*(x + 3)) - sqrt(x**2 + 9)), x, -oo))"
      ],
      "metadata": {
        "colab": {
          "base_uri": "https://localhost:8080/"
        },
        "id": "QFEEkZ7-2nnh",
        "outputId": "8530052e-8c79-4426-ec9f-4fcc27aed297"
      },
      "execution_count": 17,
      "outputs": [
        {
          "output_type": "stream",
          "name": "stdout",
          "text": [
            "-3/2\n"
          ]
        }
      ]
    },
    {
      "cell_type": "markdown",
      "source": [
        "### Example 5\n"
      ],
      "metadata": {
        "id": "9I9Dt0H2xBxt"
      }
    },
    {
      "cell_type": "markdown",
      "source": [
        "Найти предел lim(x->∞)((6x^2+3x)/3x^2)"
      ],
      "metadata": {
        "id": "orknPtC1xBxu"
      }
    },
    {
      "cell_type": "code",
      "execution_count": null,
      "metadata": {
        "colab": {
          "base_uri": "https://localhost:8080/"
        },
        "outputId": "b23fab18-9832-400e-fc68-1333dadb21b7",
        "id": "hCY5I5P-xBxv"
      },
      "outputs": [
        {
          "output_type": "stream",
          "name": "stdout",
          "text": [
            "2\n"
          ]
        }
      ],
      "source": [
        "from sympy import *\n",
        "x = Symbol('x')\n",
        "print(limit((6*x**2+3 *x)/(3 *x**2),x,oo))"
      ]
    }
  ]
}